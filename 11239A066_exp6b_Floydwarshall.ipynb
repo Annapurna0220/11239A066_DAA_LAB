{
  "nbformat": 4,
  "nbformat_minor": 0,
  "metadata": {
    "colab": {
      "provenance": [],
      "authorship_tag": "ABX9TyOkM602lMsHADCR8ocILz+w",
      "include_colab_link": true
    },
    "kernelspec": {
      "name": "python3",
      "display_name": "Python 3"
    },
    "language_info": {
      "name": "python"
    }
  },
  "cells": [
    {
      "cell_type": "markdown",
      "metadata": {
        "id": "view-in-github",
        "colab_type": "text"
      },
      "source": [
        "<a href=\"https://colab.research.google.com/github/Annapurna0220/11239A066_DAA_LAB/blob/main/11239A066_exp6b_Floydwarshall.ipynb\" target=\"_parent\"><img src=\"https://colab.research.google.com/assets/colab-badge.svg\" alt=\"Open In Colab\"/></a>"
      ]
    },
    {
      "cell_type": "code",
      "execution_count": null,
      "metadata": {
        "colab": {
          "base_uri": "https://localhost:8080/"
        },
        "id": "s2Qx9CRnIG_i",
        "outputId": "5c8ea966-318a-483a-e97d-eb6e585c4940"
      },
      "outputs": [
        {
          "output_type": "stream",
          "name": "stdout",
          "text": [
            "Shortest distances between every pair of vertices:\n",
            "[0, 3, inf]\n",
            "[3, 0, inf]\n",
            "[4, 1, 0]\n"
          ]
        }
      ],
      "source": [
        "\n",
        "def floyd_warshall(graph):\n",
        "    V = len(graph)\n",
        "    dist = [row[:] for row in graph]\n",
        "    for k in range(V):\n",
        "        for i in range(V):\n",
        "            for j in range(V):\n",
        "                if dist[i][j] > dist[i][k] + dist[k][j]:\n",
        "                    dist[i][j] = dist[i][k] + dist[k][j]\n",
        "    return dist\n",
        "\n",
        "def print_solution(dist):\n",
        "    print(\"Shortest distances between every pair of vertices:\")\n",
        "    for row in dist:\n",
        "        print(row)\n",
        "INF = float('inf')\n",
        "graph = [\n",
        "    [0, 3, INF],\n",
        "    [3, 0, INF],\n",
        "    [INF, 1, 0]\n",
        "]\n",
        "\n",
        "shortest_paths = floyd_warshall(graph)\n",
        "print_solution(shortest_paths)\n"
      ]
    }
  ]
}