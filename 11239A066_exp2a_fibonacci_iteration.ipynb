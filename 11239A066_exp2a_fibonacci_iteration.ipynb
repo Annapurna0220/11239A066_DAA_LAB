{
  "nbformat": 4,
  "nbformat_minor": 0,
  "metadata": {
    "colab": {
      "provenance": [],
      "authorship_tag": "ABX9TyPtD7BNw1jrFIQQPa40nddB",
      "include_colab_link": true
    },
    "kernelspec": {
      "name": "python3",
      "display_name": "Python 3"
    },
    "language_info": {
      "name": "python"
    }
  },
  "cells": [
    {
      "cell_type": "markdown",
      "metadata": {
        "id": "view-in-github",
        "colab_type": "text"
      },
      "source": [
        "<a href=\"https://colab.research.google.com/github/Annapurna0220/11239A066_DAA_LAB/blob/main/11239A066_exp2a_fibonacci_iteration.ipynb\" target=\"_parent\"><img src=\"https://colab.research.google.com/assets/colab-badge.svg\" alt=\"Open In Colab\"/></a>"
      ]
    },
    {
      "cell_type": "code",
      "execution_count": 4,
      "metadata": {
        "colab": {
          "base_uri": "https://localhost:8080/"
        },
        "id": "YLb2JyG7X9Ld",
        "outputId": "dd79270c-af98-447d-d539-73f1521e70f5"
      },
      "outputs": [
        {
          "output_type": "stream",
          "name": "stdout",
          "text": [
            "enter the values:4\n",
            "0 1 1 2 "
          ]
        }
      ],
      "source": [
        "def fibonacci(n):\n",
        "  a,b=0,1\n",
        "  count=0\n",
        "  while count<n:\n",
        "    print(a,end=\" \")\n",
        "    a,b=b,a+b\n",
        "    count+=1\n",
        "num=int(input(\"enter the values:\"))\n",
        "if num<0:\n",
        "    print(\"enter the non negetive value:\")\n",
        "else:\n",
        "    fibonacci(num)\n"
      ]
    }
  ]
}