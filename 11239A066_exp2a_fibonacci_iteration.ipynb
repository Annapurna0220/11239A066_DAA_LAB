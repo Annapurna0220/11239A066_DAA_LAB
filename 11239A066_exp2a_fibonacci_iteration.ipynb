{
  "nbformat": 4,
  "nbformat_minor": 0,
  "metadata": {
    "colab": {
      "provenance": [],
      "authorship_tag": "ABX9TyNno9yzwyEs2QvVrF29LQc+",
      "include_colab_link": true
    },
    "kernelspec": {
      "name": "python3",
      "display_name": "Python 3"
    },
    "language_info": {
      "name": "python"
    }
  },
  "cells": [
    {
      "cell_type": "markdown",
      "metadata": {
        "id": "view-in-github",
        "colab_type": "text"
      },
      "source": [
        "<a href=\"https://colab.research.google.com/github/Annapurna0220/11239A066_DAA_LAB/blob/main/11239A066_exp2a_fibonacci_iteration.ipynb\" target=\"_parent\"><img src=\"https://colab.research.google.com/assets/colab-badge.svg\" alt=\"Open In Colab\"/></a>"
      ]
    },
    {
      "cell_type": "code",
      "execution_count": 1,
      "metadata": {
        "colab": {
          "base_uri": "https://localhost:8080/"
        },
        "id": "elxmIXpTMPXW",
        "outputId": "9abe1867-7099-4849-c4ab-c7a40575dea9"
      },
      "outputs": [
        {
          "output_type": "stream",
          "name": "stdout",
          "text": [
            "First 10 Fibonacci numbers (iterative):\n",
            "[0, 1, 1, 2, 3, 5, 8, 13, 21, 34]\n"
          ]
        }
      ],
      "source": [
        "def fibonacci_iterative(n):\n",
        "    fib_sequence = []\n",
        "    a, b = 0, 1\n",
        "    for _ in range(n):\n",
        "        fib_sequence.append(a)\n",
        "        a, b = b, a + b\n",
        "    return fib_sequence\n",
        "\n",
        "# Example: Get the first 10 Fibonacci numbers\n",
        "n = 10\n",
        "print(f\"First {n} Fibonacci numbers (iterative):\")\n",
        "print(fibonacci_iterative(n))\n"
      ]
    }
  ]
}