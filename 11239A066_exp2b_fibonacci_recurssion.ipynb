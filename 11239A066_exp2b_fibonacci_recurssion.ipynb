{
  "nbformat": 4,
  "nbformat_minor": 0,
  "metadata": {
    "colab": {
      "provenance": [],
      "authorship_tag": "ABX9TyMjRCdXgzyUvZgRjFbziaiP",
      "include_colab_link": true
    },
    "kernelspec": {
      "name": "python3",
      "display_name": "Python 3"
    },
    "language_info": {
      "name": "python"
    }
  },
  "cells": [
    {
      "cell_type": "markdown",
      "metadata": {
        "id": "view-in-github",
        "colab_type": "text"
      },
      "source": [
        "<a href=\"https://colab.research.google.com/github/Annapurna0220/11239A066_DAA_LAB/blob/main/11239A066_exp2b_fibonacci_recurssion.ipynb\" target=\"_parent\"><img src=\"https://colab.research.google.com/assets/colab-badge.svg\" alt=\"Open In Colab\"/></a>"
      ]
    },
    {
      "cell_type": "code",
      "execution_count": 1,
      "metadata": {
        "colab": {
          "base_uri": "https://localhost:8080/"
        },
        "id": "0hqOPs0l2Usm",
        "outputId": "ae58ca0b-66a9-4c16-c96d-5c8df97e2a9a"
      },
      "outputs": [
        {
          "output_type": "stream",
          "name": "stdout",
          "text": [
            "enter the values:3\n",
            "0 1 1 "
          ]
        }
      ],
      "source": [
        "def fibonacci(n):\n",
        "  if n<=0:\n",
        "    return 0\n",
        "  elif n==1:\n",
        "    return 1\n",
        "  else:\n",
        "    return fibonacci(n-1)+fibonacci(n-2)\n",
        "num=int(input(\"enter the values:\"))\n",
        "if num<=0:\n",
        "    print(\"enter the non negetive values\")\n",
        "else:\n",
        "    for i in range (num):\n",
        "        print(fibonacci(i),end=' ' )"
      ]
    }
  ]
}